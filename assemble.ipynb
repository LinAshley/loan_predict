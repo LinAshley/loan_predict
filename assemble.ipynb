{
 "cells": [
  {
   "cell_type": "code",
   "execution_count": 1,
   "metadata": {},
   "outputs": [],
   "source": [
    "import os\n",
    "import settings\n",
    "import pandas as pd\n",
    "\n",
    "HEADERS = {\n",
    "    \"Acquisition\": [\n",
    "        \"id\",\n",
    "        \"channel\",\n",
    "        \"seller\",\n",
    "        \"interest_rate\",\n",
    "        \"balance\",\n",
    "        \"loan_term\",\n",
    "        \"origination_date\",\n",
    "        \"first_payment_date\",\n",
    "        \"ltv\",\n",
    "        \"cltv\",\n",
    "        \"borrower_count\",\n",
    "        \"dti\",\n",
    "        \"borrower_credit_score\",\n",
    "        \"first_time_homebuyer\",\n",
    "        \"loan_purpose\",\n",
    "        \"property_type\",\n",
    "        \"unit_count\",\n",
    "        \"occupancy_status\",\n",
    "        \"property_state\",\n",
    "        \"zip\",\n",
    "        \"insurance_percentage\",\n",
    "        \"product_type\",\n",
    "        \"co_borrower_credit_score\"\n",
    "    ],\n",
    "    \"Performance\": [\n",
    "        \"id\",\n",
    "        \"reporting_period\",\n",
    "        \"servicer_name\",\n",
    "        \"interest_rate\",\n",
    "        \"balance\",\n",
    "        \"loan_age\",\n",
    "        \"months_to_maturity\",\n",
    "        \"maturity_date\",\n",
    "        \"msa\",\n",
    "        \"delinquency_status\",\n",
    "        \"modification_flag\",\n",
    "        \"zero_balance_code\",\n",
    "        \"zero_balance_date\",\n",
    "        \"last_paid_installment_date\",\n",
    "        \"foreclosure_date\",\n",
    "        \"disposition_date\",\n",
    "        \"foreclosure_costs\",\n",
    "        \"property_repair_costs\",\n",
    "        \"recovery_costs\",\n",
    "        \"misc_costs\",\n",
    "        \"tax_costs\",\n",
    "        \"sale_proceeds\",\n",
    "        \"credit_enhancement_proceeds\",\n",
    "        \"repurchase_proceeds\",\n",
    "        \"other_foreclosure_proceeds\",\n",
    "        \"non_interest_bearing_balance\",\n",
    "        \"principal_forgiveness_balance\"\n",
    "    ]\n",
    "}\n",
    "\n"
   ]
  },
  {
   "cell_type": "markdown",
   "metadata": {},
   "source": [
    "下一步是定义我们要保留的列。由于我们要持续衡量的只是贷款是否曾被取消抵押，因此我们可以舍弃绩效数据中的许多列。不过，我们需要将所有列都保留在获取数据中，因为我们想最大化我们获得贷款时的信息（毕竟，我们正在预测贷款是否会被取消抵押或取消抵押）。点它获得）。丢弃列将使我们能够节省磁盘空间和内存，同时还可以加快代码的速度。"
   ]
  },
  {
   "cell_type": "code",
   "execution_count": 2,
   "metadata": {},
   "outputs": [],
   "source": [
    "SELECT = {\n",
    "    \"Acquisition\": HEADERS[\"Acquisition\"],\n",
    "    \"Performance\": [\n",
    "        \"id\",\n",
    "        \"foreclosure_date\"\n",
    "    ]\n",
    "}"
   ]
  },
  {
   "cell_type": "markdown",
   "metadata": {},
   "source": [
    "接下来，我们将编写一个函数来连接数据集。"
   ]
  },
  {
   "cell_type": "code",
   "execution_count": null,
   "metadata": {},
   "outputs": [],
   "source": [
    "def concatenate(prefix=\"Acquisition\"):\n",
    "    files=os.listdir(settings.DATA_DIR)\n",
    "    full=[]\n",
    "    for i in files:\n",
    "        if not f.startwith(prefix):\n",
    "            continue'\n",
    "            \n",
    "        data=pd.read_csv(os.path.join(settings.DATA_DIR,f),sep=\"|\",header=None,names=HEADERS[prefix],index_col=False)\n",
    "        data=data[SELECT[prefix]]\n",
    "        full.append(data)\n",
    "    \n",
    "    full=pd.concat(full,axis=0)\n",
    "    \n",
    "    full.to_csv(os.path.join(settings.PROCESSED_DIR,\"{}.txt\".format(prefix)),sep=\"|\",header=SELECT[prefix],index=False)\n",
    "\n",
    "if __name__==\"__main__\":\n",
    "    concatenate(\"Acquisition\")\n",
    "    concatenate(\"Performance\")"
   ]
  }
 ],
 "metadata": {
  "kernelspec": {
   "display_name": "Python 3",
   "language": "python",
   "name": "python3"
  },
  "language_info": {
   "codemirror_mode": {
    "name": "ipython",
    "version": 3
   },
   "file_extension": ".py",
   "mimetype": "text/x-python",
   "name": "python",
   "nbconvert_exporter": "python",
   "pygments_lexer": "ipython3",
   "version": "3.7.4"
  }
 },
 "nbformat": 4,
 "nbformat_minor": 2
}
